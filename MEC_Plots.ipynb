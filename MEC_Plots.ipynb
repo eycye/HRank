{
 "cells": [
  {
   "cell_type": "markdown",
   "id": "184d73d0",
   "metadata": {},
   "source": [
    "# The code immediately following is incorrect. Scroll down for correct code."
   ]
  },
  {
   "cell_type": "code",
   "execution_count": 42,
   "id": "7a2e2997",
   "metadata": {},
   "outputs": [
    {
     "name": "stdout",
     "output_type": "stream",
     "text": [
      "Files already downloaded and verified\n",
      "50000 50000\n",
      "[59, 43, 50, 68, 98, 119, 139, 145, 149, 149, 131, 125, 142, 144, 137, 129, 137, 134, 124, 139, 139, 133, 136, 139, 152, 163, 168, 159, 158, 158, 152, 148, 16, 0, 18, 51, 88, 120, 128, 127, 126, 116, 106, 101, 105, 113, 109, 112, 119, 109, 105, 125, 127, 122, 131, 124, 121, 131, 132, 133, 133, 123, 119, 122, 25, 16, 49, 83, 110, 129, 130, 121, 113, 112, 112, 106, 105, 128, 124, 130, 127, 122, 115, 120, 130, 131, 139, 127, 126, 127, 130, 142, 130, 118, 120, 109, 33, 38, 87, 106, 115, 117, 114, 105, 107, 121, 125, 109, 113, 146, 133, 127, 118, 117, 127, 122, 132, 137, 136, 131, 124, 130, 132, 135, 130, 125, 121, 94, 50, 59, 102, 127, 124, 121, 120, 114, 107, 125, 129, 106, 108, 124, 121, 108, 98, 110, 117, 120, 134, 140, 131, 141, 135, 127, 121, 119, 103, 87, 75, 67, 71, 84, 110, 129, 136, 131, 129, 119, 108, 122, 123, 105, 107, 111, 108, 98, 94, 97, 83, 88, 102, 97, 88, 118, 140, 136, 120, 107, 88, 67, 35, 32, 97, 111, 123, 130, 136, 132, 122, 121, 127, 138, 124, 120, 107, 80, 68, 74, 101, 105, 65, 58, 63, 78, 136, 122, 139, 151, 129, 108, 95, 96, 89, 66, 115, 119, 130, 140, 133, 127, 138, 137, 131, 133, 134, 108, 72, 51, 41, 72, 181, 209, 125, 68, 64, 82, 123, 112, 135, 151, 137, 114, 105, 101, 126, 102, 137, 128, 132, 128, 119, 123, 128, 130, 121, 137, 131, 74, 54, 50, 44, 86, 203, 217, 162, 100, 77, 75, 74, 76, 107, 135, 135, 129, 127, 119, 125, 134, 154, 154, 156, 140, 123, 125, 126, 127, 133, 132, 90, 63, 62, 70, 79, 103, 152, 148, 141, 121, 101, 96, 86, 75, 101, 136, 136, 134, 133, 132, 128, 133, 154, 155, 156, 147, 133, 137, 139, 134, 141, 121, 80, 97, 90, 98, 137, 139, 148, 134, 138, 134, 140, 175, 142, 102, 108, 135, 131, 133, 138, 136, 130, 134, 145, 146, 146, 135, 127, 129, 117, 103, 130, 120, 111, 146, 136, 163, 169, 152, 161, 148, 177, 161, 195, 209, 189, 125, 108, 140, 137, 132, 136, 133, 132, 133, 142, 141, 140, 144, 147, 121, 84, 88, 109, 101, 138, 213, 178, 191, 211, 189, 205, 207, 213, 191, 199, 188, 161, 130, 124, 131, 130, 131, 134, 135, 136, 133, 158, 154, 142, 143, 132, 90, 72, 81, 84, 107, 165, 229, 183, 191, 239, 219, 228, 225, 214, 216, 210, 200, 189, 174, 161, 139, 134, 126, 131, 142, 136, 138, 145, 149, 147, 147, 136, 80, 89, 105, 96, 129, 192, 185, 145, 203, 223, 242, 244, 238, 241, 227, 225, 235, 219, 224, 215, 156, 128, 129, 131, 133, 128, 130, 148, 146, 145, 147, 133, 63, 66, 88, 113, 182, 220, 138, 162, 206, 196, 247, 255, 255, 245, 236, 230, 215, 231, 250, 241, 158, 125, 126, 124, 125, 126, 124, 149, 143, 144, 151, 132, 64, 84, 112, 163, 223, 206, 145, 196, 204, 220, 243, 245, 239, 234, 231, 195, 150, 208, 250, 227, 163, 145, 143, 140, 136, 121, 114, 147, 134, 140, 148, 135, 100, 108, 144, 210, 248, 175, 175, 220, 226, 230, 233, 224, 201, 184, 181, 190, 170, 179, 231, 223, 162, 146, 140, 139, 145, 142, 128, 152, 117, 114, 123, 126, 122, 93, 179, 238, 248, 170, 185, 241, 230, 187, 180, 166, 146, 149, 157, 184, 216, 212, 236, 236, 166, 136, 134, 130, 127, 137, 151, 145, 127, 128, 133, 132, 135, 171, 237, 252, 229, 173, 169, 220, 194, 123, 135, 127, 151, 165, 132, 151, 202, 240, 240, 222, 156, 119, 120, 112, 100, 99, 140, 143, 127, 129, 129, 130, 140, 219, 244, 210, 193, 166, 153, 191, 179, 128, 147, 149, 172, 147, 128, 141, 173, 202, 190, 198, 152, 100, 109, 119, 121, 108, 136, 143, 125, 131, 128, 123, 153, 148, 166, 188, 182, 171, 165, 195, 190, 152, 143, 152, 153, 142, 141, 135, 136, 148, 141, 141, 138, 111, 111, 121, 129, 138, 179, 141, 131, 139, 139, 138, 151, 128, 136, 175, 173, 189, 205, 201, 168, 151, 145, 146, 149, 153, 149, 144, 144, 145, 143, 129, 123, 124, 113, 108, 113, 148, 199, 143, 139, 138, 149, 160, 150, 147, 151, 169, 167, 179, 212, 203, 207, 149, 139, 144, 137, 151, 155, 152, 140, 107, 91, 84, 105, 132, 118, 96, 102, 159, 190, 149, 133, 136, 147, 150, 153, 157, 162, 175, 190, 166, 202, 224, 197, 192, 180, 146, 126, 141, 156, 153, 115, 77, 79, 93, 126, 133, 119, 113, 140, 187, 154, 172, 144, 135, 136, 135, 139, 153, 163, 166, 184, 166, 150, 184, 156, 158, 168, 149, 135, 130, 132, 128, 127, 135, 143, 139, 136, 127, 121, 135, 189, 211, 136, 202, 187, 151, 128, 122, 134, 142, 150, 153, 148, 135, 127, 153, 166, 143, 130, 128, 151, 152, 135, 139, 155, 161, 154, 154, 143, 130, 132, 171, 215, 186, 117, 216, 193, 168, 151, 131, 126, 138, 144, 142, 137, 120, 131, 145, 144, 137, 127, 126, 139, 153, 149, 140, 135, 147, 148, 149, 149, 137, 143, 203, 206, 124, 71, 220, 201, 186, 172, 156, 142, 142, 153, 150, 139, 126, 136, 148, 141, 131, 126, 127, 138, 150, 154, 149, 124, 126, 141, 145, 147, 127, 114, 186, 173, 56, 33, 208, 201, 198, 191, 183, 171, 159, 147, 135, 130, 139, 147, 144, 145, 137, 136, 137, 148, 152, 150, 155, 138, 120, 128, 142, 135, 90, 50, 137, 160, 56, 53, 180, 173, 186, 194, 198, 201, 189, 173, 156, 139, 142, 145, 141, 141, 139, 140, 143, 139, 138, 143, 146, 135, 117, 112, 122, 104, 58, 34, 131, 184, 97, 83, 177, 168, 179, 188, 202, 218, 218, 207, 191, 175, 166, 163, 163, 161, 153, 159, 162, 149, 140, 148, 161, 144, 112, 119, 130, 120, 92, 103, 170, 216, 151, 123, 62, 46, 48, 54, 73, 91, 107, 110, 117, 120, 103, 99, 115, 112, 105, 97, 106, 106, 97, 113, 112, 105, 105, 108, 120, 131, 136, 129, 130, 132, 125, 124, 20, 0, 8, 27, 51, 82, 89, 86, 87, 79, 70, 67, 70, 74, 70, 72, 79, 71, 69, 89, 92, 85, 89, 82, 79, 89, 91, 94, 96, 88, 83, 87, 24, 7, 27, 50, 72, 92, 93, 82, 77, 78, 79, 75, 73, 92, 87, 92, 89, 85, 79, 85, 95, 96, 102, 90, 89, 89, 92, 105, 94, 84, 84, 73, 25, 20, 54, 63, 70, 74, 72, 62, 68, 84, 90, 75, 77, 105, 91, 84, 76, 76, 87, 81, 92, 99, 99, 93, 86, 91, 90, 93, 90, 87, 85, 62, 32, 32, 65, 79, 77, 77, 78, 74, 72, 88, 89, 68, 71, 83, 78, 68, 65, 74, 80, 80, 93, 106, 95, 98, 92, 84, 79, 79, 67, 57, 47, 42, 48, 53, 73, 82, 88, 84, 84, 77, 70, 82, 81, 65, 72, 77, 74, 65, 62, 63, 56, 58, 68, 69, 54, 74, 96, 97, 80, 68, 54, 39, 10, 13, 69, 75, 85, 84, 88, 83, 74, 74, 83, 94, 79, 79, 71, 50, 43, 41, 51, 56, 37, 36, 37, 51, 93, 68, 86, 106, 87, 68, 59, 63, 61, 47, 82, 76, 90, 97, 88, 81, 90, 89, 86, 89, 91, 70, 39, 26, 22, 31, 102, 127, 76, 40, 38, 53, 77, 56, 81, 103, 95, 76, 69, 66, 92, 74, 100, 82, 91, 87, 81, 82, 85, 85, 80, 97, 94, 42, 25, 29, 29, 39, 106, 109, 90, 58, 42, 43, 39, 35, 67, 96, 97, 91, 89, 83, 86, 95, 120, 112, 114, 100, 89, 86, 86, 91, 97, 97, 60, 35, 33, 39, 50, 53, 70, 64, 79, 75, 58, 54, 48, 38, 63, 91, 92, 93, 93, 93, 86, 92, 122, 117, 117, 108, 100, 100, 102, 102, 111, 87, 40, 53, 45, 56, 91, 84, 87, 73, 82, 85, 92, 129, 99, 61, 67, 90, 87, 91, 97, 95, 86, 93, 114, 109, 109, 97, 92, 94, 84, 74, 103, 83, 60, 86, 78, 116, 115, 100, 116, 97, 121, 110, 150, 167, 146, 78, 63, 96, 95, 93, 95, 90, 87, 92, 115, 106, 105, 105, 110, 89, 56, 61, 80, 57, 79, 150, 123, 150, 169, 148, 164, 162, 164, 143, 158, 151, 121, 83, 77, 87, 91, 93, 93, 91, 89, 91, 131, 119, 107, 102, 92, 59, 44, 52, 47, 55, 106, 176, 137, 158, 216, 192, 188, 188, 177, 174, 171, 169, 162, 137, 118, 95, 96, 90, 92, 98, 89, 97, 115, 109, 108, 105, 95, 47, 57, 68, 51, 81, 152, 148, 101, 162, 200, 227, 227, 220, 219, 197, 191, 209, 206, 208, 192, 118, 89, 95, 95, 97, 89, 92, 116, 100, 100, 100, 96, 42, 43, 50, 65, 146, 191, 94, 105, 156, 166, 234, 253, 252, 234, 217, 208, 196, 217, 241, 229, 132, 95, 97, 92, 91, 88, 88, 115, 95, 97, 99, 87, 40, 59, 69, 121, 204, 182, 90, 133, 157, 188, 226, 237, 233, 224, 217, 181, 137, 193, 241, 216, 142, 127, 129, 123, 116, 95, 82, 111, 88, 99, 103, 89, 64, 73, 104, 181, 243, 147, 119, 176, 197, 207, 218, 212, 186, 163, 158, 171, 157, 167, 218, 206, 133, 116, 115, 116, 123, 119, 102, 114, 75, 80, 90, 91, 83, 58, 154, 226, 243, 134, 132, 214, 218, 169, 160, 146, 119, 116, 124, 157, 195, 198, 221, 212, 125, 85, 81, 83, 86, 105, 128, 105, 82, 90, 92, 89, 95, 145, 227, 247, 213, 136, 121, 182, 169, 89, 98, 91, 114, 127, 99, 126, 183, 228, 225, 196, 117, 76, 75, 66, 65, 74, 121, 104, 80, 86, 85, 86, 102, 196, 232, 199, 173, 129, 104, 146, 145, 86, 102, 106, 131, 108, 94, 113, 150, 183, 171, 175, 124, 72, 81, 88, 92, 82, 119, 104, 76, 85, 81, 81, 117, 118, 141, 166, 156, 134, 115, 148, 153, 108, 95, 105, 110, 102, 102, 101, 101, 110, 106, 111, 113, 100, 111, 118, 116, 116, 162, 102, 80, 89, 87, 90, 111, 91, 97, 136, 136, 151, 160, 157, 131, 108, 97, 101, 106, 110, 108, 104, 105, 104, 102, 96, 103, 126, 135, 133, 122, 136, 184, 103, 87, 89, 96, 109, 106, 104, 104, 121, 123, 141, 174, 168, 177, 112, 96, 102, 94, 107, 111, 109, 101, 76, 60, 61, 99, 142, 141, 121, 113, 149, 174, 107, 80, 88, 99, 104, 109, 112, 117, 131, 145, 124, 168, 197, 175, 165, 144, 106, 82, 97, 112, 109, 74, 43, 50, 73, 117, 134, 116, 99, 121, 165, 132, 128, 88, 85, 88, 90, 94, 108, 117, 120, 136, 118, 110, 149, 121, 123, 130, 109, 91, 85, 88, 84, 83, 92, 105, 108, 112, 105, 92, 102, 159, 181, 107, 157, 129, 100, 79, 76, 88, 98, 106, 106, 99, 87, 82, 109, 121, 99, 88, 87, 108, 106, 90, 95, 110, 113, 107, 112, 105, 93, 90, 131, 183, 155, 86, 174, 136, 122, 111, 88, 82, 94, 100, 95, 92, 78, 87, 99, 101, 94, 83, 82, 94, 108, 104, 95, 91, 103, 105, 108, 109, 101, 107, 167, 173, 93, 48, 182, 150, 148, 139, 120, 103, 100, 108, 105, 98, 88, 92, 102, 101, 89, 82, 81, 88, 100, 104, 101, 78, 85, 101, 107, 112, 101, 87, 155, 144, 29, 19, 170, 153, 161, 157, 146, 135, 121, 107, 95, 87, 93, 98, 95, 99, 91, 89, 90, 102, 106, 103, 110, 94, 76, 84, 102, 103, 69, 24, 105, 133, 31, 34, 139, 123, 144, 153, 158, 164, 153, 137, 118, 99, 97, 97, 92, 93, 91, 91, 95, 99, 98, 96, 93, 84, 80, 72, 81, 67, 31, 5, 94, 148, 62, 53, 144, 129, 142, 149, 168, 189, 191, 181, 163, 143, 132, 128, 127, 123, 114, 120, 124, 116, 104, 103, 105, 95, 90, 91, 96, 87, 67, 78, 140, 184, 118, 92, 63, 45, 43, 42, 52, 63, 75, 80, 89, 93, 77, 76, 91, 86, 79, 71, 79, 76, 64, 78, 75, 69, 74, 77, 89, 100, 108, 102, 104, 108, 102, 103, 20, 0, 0, 8, 21, 43, 45, 44, 50, 44, 37, 35, 36, 35, 33, 37, 44, 33, 27, 46, 46, 39, 47, 41, 37, 48, 53, 58, 60, 55, 50, 57, 21, 0, 8, 23, 41, 54, 55, 47, 43, 44, 46, 45, 38, 48, 47, 56, 56, 51, 43, 47, 54, 55, 62, 51, 49, 50, 53, 68, 58, 50, 50, 42, 17, 4, 25, 28, 33, 35, 37, 33, 33, 45, 53, 40, 38, 58, 47, 45, 40, 41, 52, 43, 51, 58, 57, 52, 44, 50, 49, 51, 50, 50, 48, 35, 21, 11, 34, 39, 36, 36, 40, 39, 34, 49, 51, 31, 33, 42, 39, 29, 23, 37, 49, 41, 50, 66, 58, 66, 51, 45, 41, 40, 32, 27, 23, 25, 29, 24, 37, 38, 45, 42, 43, 37, 33, 44, 39, 25, 31, 31, 34, 27, 21, 32, 38, 36, 42, 46, 36, 72, 79, 64, 45, 34, 24, 15, 0, 4, 40, 36, 43, 38, 44, 40, 30, 31, 46, 54, 34, 39, 34, 14, 17, 17, 21, 23, 16, 19, 18, 31, 83, 80, 79, 69, 49, 36, 29, 37, 38, 30, 49, 33, 47, 53, 48, 40, 47, 46, 48, 46, 46, 39, 19, 10, 14, 17, 69, 81, 47, 23, 17, 30, 62, 55, 60, 61, 54, 39, 34, 33, 59, 46, 68, 41, 51, 48, 44, 43, 44, 44, 40, 54, 53, 20, 16, 16, 18, 15, 56, 62, 71, 49, 27, 24, 24, 22, 36, 59, 58, 49, 48, 43, 45, 56, 89, 77, 82, 65, 53, 50, 48, 52, 60, 68, 30, 9, 16, 20, 30, 26, 33, 37, 61, 57, 41, 33, 24, 21, 32, 53, 53, 50, 52, 52, 45, 55, 94, 82, 82, 70, 64, 66, 68, 66, 81, 68, 13, 17, 17, 30, 57, 49, 54, 37, 46, 57, 76, 106, 53, 26, 25, 41, 45, 51, 57, 55, 46, 57, 89, 73, 69, 55, 57, 65, 55, 42, 70, 55, 14, 22, 23, 77, 69, 52, 73, 57, 82, 71, 113, 123, 94, 40, 25, 52, 59, 56, 57, 51, 46, 56, 86, 69, 68, 64, 74, 65, 34, 33, 44, 23, 19, 59, 41, 98, 122, 99, 110, 115, 118, 91, 97, 88, 76, 50, 38, 51, 61, 60, 57, 52, 48, 56, 98, 82, 74, 65, 59, 36, 22, 24, 19, 25, 50, 92, 57, 103, 176, 149, 128, 120, 112, 112, 110, 109, 114, 100, 76, 57, 66, 59, 56, 60, 48, 61, 79, 66, 68, 65, 62, 21, 32, 40, 26, 45, 113, 107, 51, 121, 170, 196, 186, 165, 163, 144, 139, 157, 164, 181, 156, 78, 57, 62, 60, 60, 50, 56, 79, 54, 55, 51, 54, 21, 31, 34, 37, 110, 169, 71, 63, 112, 135, 212, 232, 219, 197, 180, 170, 160, 197, 229, 195, 78, 49, 58, 52, 49, 46, 54, 79, 49, 51, 51, 49, 21, 41, 37, 75, 166, 157, 56, 84, 110, 156, 208, 226, 215, 201, 192, 152, 100, 154, 216, 173, 78, 60, 62, 55, 46, 30, 40, 76, 47, 61, 66, 60, 38, 43, 66, 140, 212, 115, 73, 129, 164, 179, 196, 195, 166, 138, 128, 136, 105, 105, 181, 161, 71, 43, 34, 33, 38, 35, 41, 80, 37, 48, 57, 56, 48, 32, 138, 212, 229, 104, 88, 177, 195, 142, 131, 115, 85, 79, 83, 110, 141, 152, 197, 176, 63, 16, 13, 13, 16, 27, 54, 72, 41, 51, 53, 49, 51, 110, 205, 235, 194, 100, 73, 138, 135, 55, 60, 48, 63, 74, 50, 79, 142, 203, 210, 169, 64, 12, 16, 14, 15, 19, 54, 66, 38, 49, 46, 45, 59, 161, 210, 186, 151, 92, 55, 96, 105, 47, 58, 59, 78, 54, 45, 67, 112, 160, 147, 146, 86, 26, 34, 43, 50, 36, 50, 64, 32, 48, 43, 39, 76, 85, 118, 147, 132, 99, 69, 99, 110, 66, 49, 56, 58, 51, 54, 55, 60, 74, 65, 68, 71, 37, 31, 35, 39, 45, 83, 65, 35, 46, 44, 50, 71, 52, 61, 104, 107, 118, 120, 113, 89, 65, 53, 52, 57, 61, 61, 59, 59, 59, 60, 48, 39, 30, 14, 8, 10, 44, 102, 72, 44, 42, 52, 72, 64, 58, 57, 81, 87, 105, 138, 132, 141, 74, 55, 56, 47, 61, 65, 63, 55, 38, 34, 23, 25, 34, 20, 4, 9, 63, 99, 74, 37, 48, 59, 63, 62, 67, 78, 96, 107, 84, 133, 168, 148, 133, 107, 64, 40, 52, 66, 61, 29, 14, 25, 33, 47, 39, 31, 24, 42, 91, 75, 76, 18, 35, 48, 45, 49, 68, 83, 82, 100, 88, 75, 110, 86, 87, 92, 71, 51, 43, 43, 37, 36, 52, 66, 62, 52, 39, 39, 44, 87, 114, 58, 82, 26, 25, 34, 41, 49, 53, 56, 58, 63, 59, 44, 60, 77, 59, 51, 52, 70, 65, 48, 50, 63, 65, 63, 67, 54, 44, 46, 70, 106, 91, 48, 87, 16, 19, 35, 34, 35, 49, 53, 53, 51, 34, 41, 52, 57, 54, 48, 51, 60, 69, 63, 53, 46, 57, 59, 62, 63, 54, 57, 102, 105, 49, 26, 91, 22, 24, 28, 26, 30, 51, 75, 73, 57, 38, 47, 62, 60, 51, 49, 51, 52, 60, 65, 60, 36, 41, 55, 61, 68, 59, 46, 98, 87, 9, 9, 96, 34, 26, 27, 34, 32, 42, 52, 49, 46, 57, 62, 55, 57, 51, 52, 54, 58, 60, 61, 64, 46, 33, 39, 58, 62, 40, 11, 60, 70, 7, 20, 96, 42, 30, 25, 34, 36, 32, 32, 38, 38, 49, 56, 52, 52, 51, 53, 58, 60, 60, 56, 43, 33, 38, 29, 39, 30, 11, 0, 57, 94, 34, 34, 116, 94, 87, 67, 68, 76, 72, 70, 79, 82, 86, 92, 94, 92, 84, 90, 93, 91, 83, 77, 69, 55, 59, 58, 65, 59, 46, 57, 104, 140, 84, 72] 6\n"
     ]
    }
   ],
   "source": [
    "import torch\n",
    "import numpy as np\n",
    "\n",
    "import torchvision\n",
    "import torchvision.transforms as transforms\n",
    "\n",
    "transform_train = transforms.Compose([\n",
    "    transforms.ToTensor(),\n",
    "])\n",
    "\n",
    "trainset = torchvision.datasets.CIFAR10(root=\"./data\", train=True, download=True, transform=transform_train)\n",
    "trainloader = torch.utils.data.DataLoader(trainset, batch_size=50000, shuffle=False, num_workers=1)\n",
    "\n",
    "\n",
    "all_images = []\n",
    "all_targets = []\n",
    "for batch_idx, (inputs, targets) in enumerate(trainloader):\n",
    "    # this will loop through 50000 images\n",
    "    for i in inputs:\n",
    "        #print(i.shape)\n",
    "        #print(i)\n",
    "        npa = i.numpy().flatten()\n",
    "        \n",
    "        #print(npa)\n",
    "        #print(npa.shape)\n",
    "        all_images.append(list((255 * npa).astype(int)))\n",
    "        # go from 3x32x32 to 32x32x3\n",
    "        #npa_transposed = np.transpose(npa, (1, 2, 0))\n",
    "        #print(npa_transposed.shape)\n",
    "        #print(npa_transposed)\n",
    "\n",
    "    for t in targets:\n",
    "        all_targets.append(int(t.numpy()))\n",
    "\n",
    "\n",
    "\n",
    "print(len(all_images), len(all_targets))\n",
    "print(all_images[0], all_targets[0])"
   ]
  },
  {
   "cell_type": "code",
   "execution_count": 43,
   "id": "bf450c3d",
   "metadata": {},
   "outputs": [
    {
     "data": {
      "text/plain": [
       "44306"
      ]
     },
     "execution_count": 43,
     "metadata": {},
     "output_type": "execute_result"
    }
   ],
   "source": [
    "def threshold_count(images, targets):\n",
    "    N = len(images)\n",
    "    sortedimages = []\n",
    "    curr_class, thresholds = 0, 0\n",
    "    for i in range(N):\n",
    "        sortedimages.append((sum(images[i]), targets[i]))\n",
    "    sortedimages.sort(key=lambda x: x[0])\n",
    "    for j in range(N):\n",
    "        if sortedimages[j][1] != curr_class:\n",
    "            curr_class = sortedimages[j][1]\n",
    "            thresholds += 1\n",
    "    return thresholds\n",
    "\n",
    "threshold_count(all_images, all_targets)"
   ]
  },
  {
   "cell_type": "code",
   "execution_count": 44,
   "id": "88854a50",
   "metadata": {},
   "outputs": [
    {
     "data": {
      "text/plain": [
       "47434.51410990598"
      ]
     },
     "execution_count": 44,
     "metadata": {},
     "output_type": "execute_result"
    }
   ],
   "source": [
    "def memorize(images, targets, d=3072):\n",
    "    minthreshs = np.log2(threshold_count(images, targets) + 1)\n",
    "    return (minthreshs * d + 1) + minthreshs + 1\n",
    "\n",
    "memorize(all_images, all_targets)"
   ]
  },
  {
   "cell_type": "code",
   "execution_count": 45,
   "id": "56008cd2",
   "metadata": {},
   "outputs": [
    {
     "data": {
      "text/plain": [
       "15.435247025677182"
      ]
     },
     "execution_count": 45,
     "metadata": {},
     "output_type": "execute_result"
    }
   ],
   "source": [
    "def memorize2(images, targets, d=3072):\n",
    "    return np.log2(threshold_count(images, targets) + 1)\n",
    "\n",
    "memorize2(all_images, all_targets)"
   ]
  },
  {
   "cell_type": "code",
   "execution_count": 46,
   "id": "3cdfeedc",
   "metadata": {},
   "outputs": [],
   "source": [
    "def capacity_progression(images, targets):\n",
    "    N = len(images)\n",
    "    sizes = list(range(0, 105, 5))\n",
    "    mec_samples = []\n",
    "    for s in sizes:\n",
    "        sampleIdx = np.random.randint(N, size=int((s/100) * N))\n",
    "        subsetImages = [images[i] for i in sampleIdx]\n",
    "        subsetTargets = [targets[i] for i in sampleIdx]\n",
    "        mec = memorize(subsetImages, subsetTargets)\n",
    "        mec_samples.append(mec)\n",
    "        print(\"MEC for\", s, \"% of the data: \", mec, \"bits\")\n",
    "    return sizes, mec_samples"
   ]
  },
  {
   "cell_type": "code",
   "execution_count": 47,
   "id": "cf626925",
   "metadata": {},
   "outputs": [
    {
     "name": "stdout",
     "output_type": "stream",
     "text": [
      "MEC for 0 % of the data:  2.0 bits\n",
      "MEC for 5 % of the data:  34065.616175722804 bits\n",
      "MEC for 10 % of the data:  37074.88428402467 bits\n",
      "MEC for 15 % of the data:  38660.41057990766 bits\n",
      "MEC for 20 % of the data:  39863.00133956422 bits\n",
      "MEC for 25 % of the data:  40739.688474714225 bits\n",
      "MEC for 30 % of the data:  41430.406895659646 bits\n",
      "MEC for 35 % of the data:  42059.60719110254 bits\n",
      "MEC for 40 % of the data:  42526.24178516987 bits\n",
      "MEC for 45 % of the data:  42969.000389278124 bits\n",
      "MEC for 50 % of the data:  43334.59697155643 bits\n",
      "MEC for 55 % of the data:  43652.41230004503 bits\n",
      "MEC for 60 % of the data:  43940.606477872956 bits\n",
      "MEC for 65 % of the data:  44190.037740865664 bits\n",
      "MEC for 70 % of the data:  44446.4475877403 bits\n",
      "MEC for 75 % of the data:  44653.75132199801 bits\n",
      "MEC for 80 % of the data:  44847.490920339005 bits\n",
      "MEC for 85 % of the data:  45028.29905251137 bits\n",
      "MEC for 90 % of the data:  45178.11613120413 bits\n",
      "MEC for 95 % of the data:  45353.21996017053 bits\n",
      "MEC for 100 % of the data:  45497.10878962912 bits\n"
     ]
    }
   ],
   "source": [
    "percents, mecs = capacity_progression(all_images, all_targets)"
   ]
  },
  {
   "cell_type": "code",
   "execution_count": 48,
   "id": "e8c6071b",
   "metadata": {},
   "outputs": [
    {
     "data": {
      "image/png": "[encoded data removed]",
      "text/plain": [
       "<Figure size 936x432 with 1 Axes>"
      ]
     },
     "metadata": {
      "needs_background": "light"
     },
     "output_type": "display_data"
    }
   ],
   "source": [
    "from matplotlib import pyplot as plt\n",
    "percents_np = np.array(percents)\n",
    "mecs_np = np.array(mecs)\n",
    "mecs_np[1] = 25000\n",
    "mecs_np = mecs_np / 5000\n",
    "plt.figure(figsize=(13, 6))\n",
    "plt.plot(percents_np, mecs_np)\n",
    "plt.plot(percents_np, percents_np)\n",
    "plt.title(\"Capacity Progression Curve\")\n",
    "plt.ylabel(\"MEC %overfitting for 100% accuracy\")\n",
    "plt.xlabel(\"%Training Data\")\n",
    "plt.show()"
   ]
  },
  {
   "cell_type": "markdown",
   "id": "3911775c",
   "metadata": {},
   "source": [
    "# Beginning of Correct Code"
   ]
  },
  {
   "cell_type": "code",
   "execution_count": 2,
   "id": "810dcfdf",
   "metadata": {},
   "outputs": [],
   "source": [
    "from numpy import genfromtxt\n",
    "my_data = genfromtxt('fcinputs.csv', delimiter=',')"
   ]
  },
  {
   "cell_type": "code",
   "execution_count": 3,
   "id": "07b91495",
   "metadata": {},
   "outputs": [
    {
     "data": {
      "text/plain": [
       "((50000, 64), (50000,))"
      ]
     },
     "execution_count": 3,
     "metadata": {},
     "output_type": "execute_result"
    }
   ],
   "source": [
    "therows = my_data[1:]\n",
    "theinputs = therows[:,:-1]\n",
    "thetargets = therows[:,-1]\n",
    "theinputs.shape, thetargets.shape"
   ]
  },
  {
   "cell_type": "code",
   "execution_count": 4,
   "id": "501bc716",
   "metadata": {},
   "outputs": [
    {
     "data": {
      "text/plain": [
       "44176"
      ]
     },
     "execution_count": 4,
     "metadata": {},
     "output_type": "execute_result"
    }
   ],
   "source": [
    "def threshold_count(images, targets):\n",
    "    N = len(images)\n",
    "    sortedimages = []\n",
    "    curr_class, thresholds = 0, 0\n",
    "    for i in range(N):\n",
    "        sortedimages.append((sum(images[i]), targets[i]))\n",
    "    sortedimages.sort(key=lambda x: x[0])\n",
    "    for j in range(N):\n",
    "        if sortedimages[j][1] != curr_class:\n",
    "            curr_class = sortedimages[j][1]\n",
    "            thresholds += 1\n",
    "    return thresholds\n",
    "\n",
    "threshold_count(theinputs, thetargets)"
   ]
  },
  {
   "cell_type": "code",
   "execution_count": 5,
   "id": "5c2b5418",
   "metadata": {},
   "outputs": [
    {
     "data": {
      "text/plain": [
       "1167.3255872582897"
      ]
     },
     "execution_count": 5,
     "metadata": {},
     "output_type": "execute_result"
    }
   ],
   "source": [
    "import numpy as np\n",
    "def memorize_fcinputs(images, targets, d=64):\n",
    "    minthreshs = np.log2(threshold_count(images, targets) + 1)\n",
    "    return (minthreshs * (d + 1)) + (minthreshs + 1) * 10\n",
    "\n",
    "memorize_fcinputs(theinputs, thetargets)"
   ]
  },
  {
   "cell_type": "code",
   "execution_count": 7,
   "id": "663422bc",
   "metadata": {},
   "outputs": [
    {
     "name": "stdout",
     "output_type": "stream",
     "text": [
      "MEC for 0 % of the data:  10.0 bits\n",
      "MEC for 10 % of the data:  912.9446345755791 bits\n",
      "MEC for 20 % of the data:  982.3255650844313 bits\n",
      "MEC for 30 % of the data:  1021.8983743629258 bits\n",
      "MEC for 40 % of the data:  1047.2737847357655 bits\n",
      "MEC for 50 % of the data:  1066.285878043966 bits\n",
      "MEC for 60 % of the data:  1080.8891541836497 bits\n",
      "MEC for 70 % of the data:  1092.733846921523 bits\n",
      "MEC for 80 % of the data:  1103.059032625731 bits\n",
      "MEC for 90 % of the data:  1110.853741837403 bits\n",
      "MEC for 100 % of the data:  1117.5323629139643 bits\n"
     ]
    },
    {
     "data": {
      "image/png": "[encoded data removed]",
      "text/plain": [
       "<Figure size 432x288 with 1 Axes>"
      ]
     },
     "metadata": {
      "needs_background": "light"
     },
     "output_type": "display_data"
    }
   ],
   "source": [
    "def capacity_progression(images, targets):\n",
    "    N = len(images)\n",
    "    sizes = list(range(0, 110, 10))\n",
    "    mec_samples = []\n",
    "    for s in sizes:\n",
    "        sampleIdx = np.random.randint(N, size=int((s/100) * N))\n",
    "        subsetImages = [images[i] for i in sampleIdx]\n",
    "        subsetTargets = [targets[i] for i in sampleIdx]\n",
    "        mec = memorize_fcinputs(subsetImages, subsetTargets)\n",
    "        mec_samples.append(mec)\n",
    "        print(\"MEC for\", s, \"% of the data: \", mec, \"bits\")\n",
    "    return sizes, mec_samples\n",
    "\n",
    "percents, mecs = capacity_progression(theinputs, thetargets)\n",
    "\n",
    "from matplotlib import pyplot as plt\n",
    "percents_np = np.array(percents)\n",
    "mecs_np = np.array(mecs)\n",
    "#mecs_np[1] = 25000\n",
    "last = mecs_np[-1]\n",
    "mecs_np = 10 * mecs_np / last\n",
    "#plt.figure(figsize=(13, 6))\n",
    "plt.plot(percents_np, percents_np , label=\"Baseline\")\n",
    "plt.plot(percents_np, mecs_np, label=\"Capacity Progression Curve\")\n",
    "#plt.title(\"Capacity Progression Curve\")\n",
    "plt.ylabel(\"MEC %overfitting for 100% accuracy\")\n",
    "plt.xlabel(\"%Training Data\")\n",
    "plt.legend()\n",
    "plt.show()"
   ]
  },
  {
   "cell_type": "code",
   "execution_count": null,
   "id": "bdc4574f",
   "metadata": {},
   "outputs": [],
   "source": []
  }
 ],
 "metadata": {
  "kernelspec": {
   "display_name": "Python 3 (ipykernel)",
   "language": "python",
   "name": "python3"
  },
  "language_info": {
   "codemirror_mode": {
    "name": "ipython",
    "version": 3
   },
   "file_extension": ".py",
   "mimetype": "text/x-python",
   "name": "python",
   "nbconvert_exporter": "python",
   "pygments_lexer": "ipython3",
   "version": "3.9.12"
  }
 },
 "nbformat": 4,
 "nbformat_minor": 5
}
